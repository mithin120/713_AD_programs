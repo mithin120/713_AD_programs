{
  "nbformat": 4,
  "nbformat_minor": 0,
  "metadata": {
    "colab": {
      "provenance": [],
      "authorship_tag": "ABX9TyPTq8R/OTkXYGzFljZH9nZ4",
      "include_colab_link": true
    },
    "kernelspec": {
      "name": "python3",
      "display_name": "Python 3"
    },
    "language_info": {
      "name": "python"
    }
  },
  "cells": [
    {
      "cell_type": "markdown",
      "metadata": {
        "id": "view-in-github",
        "colab_type": "text"
      },
      "source": [
        "<a href=\"https://colab.research.google.com/github/mithin120/713_AD_programs/blob/main/Untitled1.ipynb\" target=\"_parent\"><img src=\"https://colab.research.google.com/assets/colab-badge.svg\" alt=\"Open In Colab\"/></a>"
      ]
    },
    {
      "cell_type": "code",
      "execution_count": 1,
      "metadata": {
        "colab": {
          "base_uri": "https://localhost:8080/"
        },
        "id": "92wDdIG9CKS0",
        "outputId": "49d857b7-be75-4e7e-89f0-0a46295d8e0d"
      },
      "outputs": [
        {
          "output_type": "stream",
          "name": "stdout",
          "text": [
            "Original DataFrame:\n",
            "   square_feet_area  Year_built  over_all_condition ready_to_move  Sale_price\n",
            "0            8500.0      2003.0                 5.0           Yes      200000\n",
            "1            9600.0      1976.0                 8.0            No      180000\n",
            "2               NaN      2001.0                 6.0            No      215000\n",
            "3           11250.0         NaN                 7.0           NaN      250000\n",
            "4               NaN      1998.0                 NaN            No      210000\n",
            "5            9550.0      2000.0                 7.0           NaN      190000\n",
            "6           14260.0      2006.0                 8.0            No      230000\n",
            "7               NaN      1978.0                 6.0           Yes      225000\n",
            "8           13830.0      1950.0                 NaN            No      220000\n",
            "9           11500.0         NaN                 7.0           Yes      240000\n",
            "<bound method DataFrame.sum of    square_feet_area  Year_built  over_all_condition  ready_to_move  Sale_price\n",
            "0             False       False               False          False       False\n",
            "1             False       False               False          False       False\n",
            "2              True       False               False          False       False\n",
            "3             False        True               False           True       False\n",
            "4              True       False                True          False       False\n",
            "5             False       False               False           True       False\n",
            "6             False       False               False          False       False\n",
            "7              True       False               False          False       False\n",
            "8             False       False                True          False       False\n",
            "9             False        True               False          False       False>\n"
          ]
        },
        {
          "output_type": "stream",
          "name": "stderr",
          "text": [
            "<ipython-input-1-17e4380fd55f>:17: FutureWarning: A value is trying to be set on a copy of a DataFrame or Series through chained assignment using an inplace method.\n",
            "The behavior will change in pandas 3.0. This inplace method will never work because the intermediate object on which we are setting values always behaves as a copy.\n",
            "\n",
            "For example, when doing 'df[col].method(value, inplace=True)', try using 'df.method({col: value}, inplace=True)' or df[col] = df[col].method(value) instead, to perform the operation inplace on the original object.\n",
            "\n",
            "\n",
            "  df['square_feet_area'].fillna(df['square_feet_area'].mean(), inplace=True)\n",
            "<ipython-input-1-17e4380fd55f>:18: FutureWarning: A value is trying to be set on a copy of a DataFrame or Series through chained assignment using an inplace method.\n",
            "The behavior will change in pandas 3.0. This inplace method will never work because the intermediate object on which we are setting values always behaves as a copy.\n",
            "\n",
            "For example, when doing 'df[col].method(value, inplace=True)', try using 'df.method({col: value}, inplace=True)' or df[col] = df[col].method(value) instead, to perform the operation inplace on the original object.\n",
            "\n",
            "\n",
            "  df['Year_built'].fillna(df['Year_built'].mean(), inplace=True)\n",
            "<ipython-input-1-17e4380fd55f>:19: FutureWarning: A value is trying to be set on a copy of a DataFrame or Series through chained assignment using an inplace method.\n",
            "The behavior will change in pandas 3.0. This inplace method will never work because the intermediate object on which we are setting values always behaves as a copy.\n",
            "\n",
            "For example, when doing 'df[col].method(value, inplace=True)', try using 'df.method({col: value}, inplace=True)' or df[col] = df[col].method(value) instead, to perform the operation inplace on the original object.\n",
            "\n",
            "\n",
            "  df['over_all_condition'].fillna(df['over_all_condition'].mean(), inplace=True)\n"
          ]
        }
      ],
      "source": [
        "import pandas as pd\n",
        "import numpy as np\n",
        "\n",
        "data = {\n",
        "    'square_feet_area': [8500, 9600, np.nan, 11250,np.nan, 9550, 14260, np. nan, 13830, 11500],\n",
        "    'Year_built': [2003, 1976, 2001, np.nan, 1998, 2000, 2006, 1978, 1950, np. nan],\n",
        "    'over_all_condition': [5, 8, 6, 7, np. nan, 7, 8, 6, np. nan, 7],\n",
        "    'ready_to_move':['Yes','No','No',np.nan,'No',np.nan,'No','Yes','No','Yes'],\n",
        "    'Sale_price': [200000, 180000, 215000, 250000, 210000, 190000, 230000, 225000, 220000, 240000]\n",
        "}\n",
        "df = pd. DataFrame(data)\n",
        "\n",
        "print(\"Original DataFrame:\")\n",
        "print(df)\n",
        "print(df.isnull().sum)\n",
        "\n",
        "df['square_feet_area'].fillna(df['square_feet_area'].mean(), inplace=True)\n",
        "df['Year_built'].fillna(df['Year_built'].mean(), inplace=True)\n",
        "df['over_all_condition'].fillna(df['over_all_condition'].mean(), inplace=True)"
      ]
    }
  ]
}